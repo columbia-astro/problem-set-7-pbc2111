{
 "cells": [
  {
   "cell_type": "markdown",
   "metadata": {},
   "source": [
    "I chose to go with the brute force method. Partly to illuminate how intractable this problem might become in 3-parameter space, and partly because I was pressed for time. I am willing to concede of course that the latter factored more heavily in my approach, however, this approach certainly did demonstrate how ill-suited brute force can be. If I were to encounter this problem in a different setting, I will most certainly not try to brute-force my way through it again. "
   ]
  },
  {
   "cell_type": "code",
   "execution_count": 2,
   "metadata": {
    "collapsed": true
   },
   "outputs": [],
   "source": [
    "#########################################################################\n",
    "#                                                                       #\n",
    "# Import Kepler Data and Pick out points corresponding to 124 < t < 125 #\n",
    "#                                                                       #\n",
    "#########################################################################\n",
    "\n",
    "import math\n",
    "import numpy as np\n",
    "import kplr\n",
    "import matplotlib.pyplot as plt\n",
    "%matplotlib notebook\n",
    "\n",
    "# Find the target KOI.\n",
    "client = kplr.API()\n",
    "koi = client.koi(97.01)\n",
    "\n",
    "# Get a list of light curve datasets.\n",
    "lcs = koi.get_light_curves(short_cadence=False)\n",
    "\n",
    "# Open the first dataset and read it\n",
    "f = lcs[0].open()\n",
    "\n",
    "hdu_data = f[1].data\n",
    "time = hdu_data[\"time\"]\n",
    "\n",
    "index = np.where((time>124)&(time<125))\n",
    "hdu = hdu_data[index]\n",
    "\n",
    "\n",
    "flux_eclipse = hdu[\"sap_flux\"]\n",
    "time_eclipse = hdu[\"time\"]\n",
    "err_eclipse = hdu[\"sap_flux_err\"]\n",
    "\n",
    "f.close()"
   ]
  },
  {
   "cell_type": "code",
   "execution_count": 3,
   "metadata": {},
   "outputs": [
    {
     "name": "stdout",
     "output_type": "stream",
     "text": [
      "33\n"
     ]
    }
   ],
   "source": [
    "#########################################################################\n",
    "#                                                                       #\n",
    "# Perform two sigma exclusion 5 times to remove points 2 sigma away     #\n",
    "# from the mean and calculate unobscured flux. Should get 33 entries    #\n",
    "#                                                                       #\n",
    "#########################################################################\n",
    "\n",
    "non_transit = flux_eclipse\n",
    "\n",
    "for i in range(5):\n",
    "    mean = np.mean(non_transit)\n",
    "    sigma = np.std(non_transit)\n",
    "\n",
    "    twosigtest = abs(non_transit - mean)/(sigma)\n",
    "    new_indices = np.where((twosigtest<2))\n",
    "    non_transit = non_transit[new_indices]\n",
    "\n",
    "unobscured_mean = np.mean(non_transit)\n",
    "\n",
    "raw_Flux_Ratios = np.zeros(len(flux_eclipse))\n",
    "for i in range(len(flux_eclipse)):\n",
    "    raw_Flux_Ratios [i] = flux_eclipse[i] / unobscured_mean\n",
    "\n",
    "print(len(non_transit))"
   ]
  },
  {
   "cell_type": "code",
   "execution_count": 60,
   "metadata": {},
   "outputs": [
    {
     "name": "stderr",
     "output_type": "stream",
     "text": [
      "/home/patricia/anaconda3/lib/python3.6/site-packages/scipy/integrate/quadpack.py:364: IntegrationWarning: The occurrence of roundoff error is detected, which prevents \n",
      "  the requested tolerance from being achieved.  The error may be \n",
      "  underestimated.\n",
      "  warnings.warn(msg, IntegrationWarning)\n"
     ]
    }
   ],
   "source": [
    "########################################################################\n",
    "#                                                                      #\n",
    "#      Perform model calculations using scipy integration package      #\n",
    "#                                                                      #\n",
    "########################################################################\n",
    "\n",
    "from scipy.integrate import quad\n",
    "\n",
    "#vary tau\n",
    "tau_low = 0.08\n",
    "tau_high = 0.13\n",
    "tau = 0.08\n",
    "tau_step = 0.005\n",
    "\n",
    "tau_values = np.zeros(int((tau_high - tau_low) / tau_step))\n",
    "\n",
    "#vary p\n",
    "p_low = 0.0575\n",
    "p_high = 0.0975\n",
    "p = 0.0575\n",
    "p_step = 0.005\n",
    "\n",
    "p_values = np.zeros(int((p_high - p_low) / p_step))\n",
    "\n",
    "#vary t_0\n",
    "t_0_low = 124.31\n",
    "t_0_high = 124.71\n",
    "t_0 = 124.31\n",
    "t_0_step = 0.004\n",
    "\n",
    "t_0_values = np.zeros(int((t_0_high - t_0_low) / t_0_step))\n",
    "\n",
    "#define Delta function, specific intensity, numerator and denominator of flux ratio function\n",
    "def Delta_Function(r,p,z): \n",
    "    r_squared = math.pow(r,2)\n",
    "    z_squared = math.pow(z,2)\n",
    "    p_squared = math.pow(p,2)\n",
    "    if r >= z+p or r <= z-p:\n",
    "        return 0 \n",
    "    elif r + z <= p: \n",
    "        return 1\n",
    "    else:\n",
    "        return (math.pow(math.pi,-1)) * math.acos((z_squared - p_squared + r_squared) / (2*z*r))\n",
    "\n",
    "def I(r):\n",
    "    '''A Limb-darkening function'''\n",
    "    mu = (1 - (r**2))**(0.5)\n",
    "    return 1 - (1 - (mu**(0.5)))\n",
    "\n",
    "def func1(r, p, z):\n",
    "    return I(r) * (1 - Delta_Function(r,p,abs(z))) * 2 * r\n",
    "\n",
    "def func2(r):\n",
    "    return I(r) * 2 * r\n",
    "\n",
    "#find model flux values\n",
    "Model_Fluxes = np.zeros((int((tau_high - tau_low) / tau_step), int((p_high - p_low) / p_step), int((t_0_high - t_0_low) / t_0_step), len(flux_eclipse)))\n",
    "\n",
    "for i in range(int((tau_high - tau_low) / tau_step)):\n",
    "    tau_values[i] = tau\n",
    "    p = 0.0575\n",
    "    for j in range(int((p_high - p_low) / p_step)):\n",
    "        p_values[j] = p\n",
    "        t_0 = 124.31\n",
    "        for k in range(int((t_0_high - t_0_low) / t_0_step)):\n",
    "            t_0_values[k] = t_0\n",
    "            \n",
    "            #convert times in UTC to z (normalized separation of the centers)\n",
    "            z_Kepler = np.zeros(len(flux_eclipse))\n",
    "\n",
    "            for l in range(len(flux_eclipse)):\n",
    "                z_Kepler[l] = (time_eclipse[l] - t_0) / tau\n",
    "                z_l = z_Kepler[l]\n",
    "                Model_Fluxes[i,j,k,l] = quad(func1, 0, 1, args = (p, z_l))[0]/(quad(func2, 0, 1)[0])\n",
    "                \n",
    "            t_0 += t_0_step\n",
    "        p += p_step\n",
    "    tau += tau_step"
   ]
  },
  {
   "cell_type": "code",
   "execution_count": 61,
   "metadata": {},
   "outputs": [
    {
     "name": "stdout",
     "output_type": "stream",
     "text": [
      "(10, 8, 99, 49)\n"
     ]
    }
   ],
   "source": [
    "print(np.shape(Model_Fluxes))"
   ]
  },
  {
   "cell_type": "code",
   "execution_count": 62,
   "metadata": {},
   "outputs": [],
   "source": [
    "########################################################################\n",
    "#                                                                      #\n",
    "#      Compute chi squared                                             #\n",
    "#                                                                      #\n",
    "########################################################################\n",
    "\n",
    "chi_squared_values = np.zeros((int((tau_high - tau_low) / tau_step) * int((p_high - p_low) / p_step)* int((t_0_high - t_0_low) / t_0_step)))\n",
    "\n",
    "index = 0\n",
    "\n",
    "for i in range(int((tau_high - tau_low) / tau_step)):\n",
    "    for j in range(int((p_high - p_low) / p_step)):\n",
    "        for k in range(int((t_0_high - t_0_low) / t_0_step)):\n",
    "            chi_squared = 0\n",
    "            for l in range(len(flux_eclipse)):\n",
    "                add = math.pow((raw_Flux_Ratios[l] - Model_Fluxes[i,j,k,l])/(err_eclipse[l]/unobscured_mean),2)\n",
    "                chi_squared += add\n",
    "            chi_squared_values[index] = chi_squared\n",
    "            index += 1"
   ]
  },
  {
   "cell_type": "code",
   "execution_count": 63,
   "metadata": {
    "collapsed": true
   },
   "outputs": [],
   "source": [
    "########################################################################\n",
    "#                                                                      #\n",
    "#      Compute p values                                                #\n",
    "#                                                                      #\n",
    "########################################################################\n",
    "\n",
    "nu = len(flux_eclipse) - 3\n",
    "a = nu / 2\n",
    "x = chi_squared_values / 2\n",
    "\n",
    "def Incomplete_Gamma_Integrand(t,a): \n",
    "    return(math.exp(-t) * math.pow(t,a-1))\n",
    "\n",
    "def p_value(a, x):\n",
    "    return(quad(Incomplete_Gamma_Integrand, x, math.inf, args=(a))[0] / quad(Incomplete_Gamma_Integrand, 0, math.inf, args=(a))[0])\n",
    "\n",
    "p = np.zeros(len(x))\n",
    "\n",
    "for i in range(len(p)):\n",
    "    p[i] = p_value(a,x[i])\n"
   ]
  },
  {
   "cell_type": "code",
   "execution_count": 66,
   "metadata": {},
   "outputs": [
    {
     "name": "stdout",
     "output_type": "stream",
     "text": [
      "minimum chi value: 88.3131637449\n",
      "minimum corresponding tau value: 0.105\n",
      "minimum corresponding p value: 0.0825\n",
      "minimum corresponding t_0 value: 124.506\n",
      "minimum chi plus 1 value: 89.3131637449\n",
      "corresponding tau value: 0.105\n",
      "corresponding p value: 0.0825\n",
      "corresponding t_0 value: 124.502\n",
      "tau one sigma uncertainty: 0.0\n",
      "p one sigma uncertainty: 0.0\n",
      "t_0 one sigma uncertainty: -0.004\n"
     ]
    }
   ],
   "source": [
    "########################################################################\n",
    "#                                                                      #\n",
    "#      Report best fit parameter set and uncertainty estimates         #\n",
    "#                                                                      #\n",
    "########################################################################\n",
    "\n",
    "#since I recorded chi squared values as a 1-d array, to translate the position in the chi-squared array back to \n",
    "#the corresponding tau, p and t_0 parameter values requires some arithmetic.\n",
    "\n",
    "num_tau_values = len(tau_values)\n",
    "num_p_values = len(p_values)\n",
    "num_t_0_values = len(t_0_values)\n",
    "\n",
    "#find minimum chi squared value\n",
    "min_chi = np.min(chi_squared_values)\n",
    "min_chi_index = np.where(chi_squared_values == min_chi)\n",
    "tau_loc = math.ceil(min_chi_index[0][0]/(num_p_values * num_t_0_values))\n",
    "p_loc = math.ceil((min_chi_index[0][0] - ((num_p_values * num_t_0_values) * (tau_loc-1))) / num_t_0_values)\n",
    "t_0_loc = min_chi_index[0][0]- ((num_p_values * num_t_0_values) * (tau_loc-1)) - (num_t_0_values * (p_loc-1))\n",
    "\n",
    "min_tau = tau_values[tau_loc]\n",
    "min_p = p_values[p_loc]\n",
    "min_t_0 = t_0_values[t_0_loc]\n",
    "\n",
    "epsilon = 300\n",
    "min_chi_plus1 = min_chi + 1\n",
    "\n",
    "min_chi_plus1_index = np.where((chi_squared_values <= min_chi_plus1 + epsilon)&(chi_squared_values >= min_chi_plus1 - epsilon))\n",
    "\n",
    "tau_1_loc = math.ceil(min_chi_plus1_index[0][1]/(num_p_values * num_t_0_values))\n",
    "p_1_loc = math.ceil((min_chi_plus1_index[0][1] - ((num_p_values * num_t_0_values) * (tau_1_loc-1))) / num_t_0_values)\n",
    "t_0_1_loc = min_chi_plus1_index[0][1] - ((num_p_values * num_t_0_values) * (tau_1_loc-1)) - (num_t_0_values * (p_1_loc-1))\n",
    "\n",
    "min_tau_plus1 = tau_values[tau_1_loc]\n",
    "min_p_plus1 = p_values[p_1_loc]\n",
    "min_t_0_plus1 = t_0_values[t_0_1_loc]\n",
    "\n",
    "print(\"minimum chi value: \" + str(min_chi))\n",
    "print(\"minimum corresponding tau value: \" + str(min_tau))\n",
    "print(\"minimum corresponding p value: \" + str(min_p))\n",
    "print(\"minimum corresponding t_0 value: \" + str(min_t_0))\n",
    "\n",
    "print(\"minimum chi plus 1 value: \" + str(min_chi_plus1))\n",
    "print(\"corresponding tau value: \" + str(min_tau_plus1))\n",
    "print(\"corresponding p value: \" + str(min_p_plus1))\n",
    "print(\"corresponding t_0 value: \" + str(min_t_0_plus1))\n",
    "\n",
    "print(\"tau one sigma uncertainty: \" + str(min_tau_plus1 - min_tau))\n",
    "print(\"p one sigma uncertainty: \" + str(min_p_plus1 - min_p))\n",
    "print(\"t_0 one sigma uncertainty: \" + str(min_t_0_plus1 - min_t_0))"
   ]
  }
 ],
 "metadata": {
  "kernelspec": {
   "display_name": "Python 3",
   "language": "python",
   "name": "python3"
  },
  "language_info": {
   "codemirror_mode": {
    "name": "ipython",
    "version": 3
   },
   "file_extension": ".py",
   "mimetype": "text/x-python",
   "name": "python",
   "nbconvert_exporter": "python",
   "pygments_lexer": "ipython3",
   "version": "3.6.3"
  }
 },
 "nbformat": 4,
 "nbformat_minor": 2
}
